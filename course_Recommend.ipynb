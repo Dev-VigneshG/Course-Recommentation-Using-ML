{
  "nbformat": 4,
  "nbformat_minor": 0,
  "metadata": {
    "colab": {
      "provenance": []
    },
    "kernelspec": {
      "name": "python3",
      "display_name": "Python 3"
    },
    "language_info": {
      "name": "python"
    }
  },
  "cells": [
    {
      "cell_type": "code",
      "execution_count": null,
      "metadata": {
        "id": "lhbJ5r-r-cX6"
      },
      "outputs": [],
      "source": [
        "import pandas as pd\n",
        "from sklearn.feature_extraction.text import TfidfVectorizer\n",
        "from sklearn.neighbors import NearestNeighbors\n",
        "df = pd.read_csv('Online_Courses.csv')\n",
        "def extract_numeric_duration(duration_string):\n",
        "    try:\n",
        "        parts = duration_string.split()\n",
        "        numeric_value = float(parts[0])\n",
        "        if 'hour' in duration_string:\n",
        "            return numeric_value\n",
        "        elif 'min' in duration_string:\n",
        "            return numeric_value / 60\n",
        "        else:\n",
        "            return 0\n",
        "    except:\n",
        "        return 0\n",
        "\n",
        "df['Duration'] = df['Duration'].apply(extract_numeric_duration)\n",
        "features = ['Title', 'Short Intro', 'Category', 'Sub-Category', 'Language', 'Skills']\n",
        "vectorizer = TfidfVectorizer(stop_words='english')\n",
        "X = vectorizer.fit_transform(df['Short Intro'].fillna(''))\n",
        "model = NearestNeighbors(n_neighbors=5, algorithm='brute', metric='cosine')\n",
        "model.fit(X)\n",
        "def recommend_courses(query):\n",
        "    subject_courses = df[df['Category'].str.lower() == query.lower()]\n",
        "    if len(subject_courses) > 0:\n",
        "        X_subject = vectorizer.transform(subject_courses['Short Intro'].fillna(''))\n",
        "        model_subject = NearestNeighbors(n_neighbors=5, algorithm='brute', metric='cosine')\n",
        "        model_subject.fit(X_subject)\n",
        "        random_course = subject_courses.sample(1)\n",
        "        course_id = random_course['Course_ID'].values[0]\n",
        "        query_course = subject_courses[subject_courses['Course_ID'] == course_id][features].values.reshape(1, -1)\n",
        "        distances, indices = model_subject.kneighbors(query_course)\n",
        "        recommended_course_ids = subject_courses.iloc[indices[0]]['Course_ID'].tolist()\n",
        "        if course_id in recommended_course_ids:\n",
        "            recommended_course_ids.remove(course_id)\n",
        "        recommended_courses = df[df['Course_ID'].isin(recommended_course_ids)][['Title', 'URL']]\n",
        "        return recommended_courses\n",
        "    else:\n",
        "        title_matches = df[df['Title'].str.contains(query, case=False)]\n",
        "        if not title_matches.empty:\n",
        "            return title_matches[['Title', 'URL']]\n",
        "        else:\n",
        "            return None\n",
        "if __name__ == \"__main__\":\n",
        "    c=0\n",
        "    while True:\n",
        "        query = input(\"Enter a subject or title/keywords to get course recommendations (or 'exit' to quit): \").strip().capitalize()\n",
        "        if query.lower() == 'exit':\n",
        "            print(\"Exiting program...\")\n",
        "            break\n",
        "        recommended_courses = recommend_courses(query)\n",
        "        if recommended_courses is None:\n",
        "            print(f\"No courses found for '{query}'\")\n",
        "        else:\n",
        "            print(f\"\\nRecommended Courses for '{query}':\")\n",
        "            for index, row in recommended_courses.iterrows():\n",
        "                if(c>4):\n",
        "                  break\n",
        "                print(f\"Title: {row['Title']}\")\n",
        "                print(f\"URL: {row['URL']}\")\n",
        "                print()\n",
        "                c=c+1"
      ]
    }
  ]
}